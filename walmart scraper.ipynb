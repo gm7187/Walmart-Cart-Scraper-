{
 "cells": [
  {
   "cell_type": "code",
   "execution_count": 20,
   "id": "944ccd56",
   "metadata": {},
   "outputs": [
    {
     "name": "stdout",
     "output_type": "stream",
     "text": [
      "resp text contains shopping cart data\n"
     ]
    }
   ],
   "source": [
    "import browser_cookie3\n",
    "import requests\n",
    "from pandas import ExcelWriter\n",
    "import pandas as pd\n",
    "import sqlite3\n",
    "from bs4 import BeautifulSoup\n",
    "\n",
    "cookies = browser_cookie3.chrome(domain_name='.walmart.com')\n",
    "headers = {\n",
    "    'User-Agent': 'Mozilla/5.0 (Windows NT 10.0; Win64; x64) AppleWebKit/537.36 (KHTML, like Gecko) Chrome/92.0.4515.107 Safari/537.36'\n",
    "}\n",
    "\n",
    "with requests.session() as s:\n",
    "    s.cookies = cookies\n",
    "    s.headers = headers\n",
    "    url = 'https://www.walmart.com/cart'\n",
    "    resp = s.get(url)\n",
    "    print('resp text contains shopping cart data')"
   ]
  },
  {
   "cell_type": "code",
   "execution_count": 21,
   "id": "ff0b55d2",
   "metadata": {},
   "outputs": [],
   "source": [
    "soup=BeautifulSoup(resp.content, 'html.parser')\n",
    "with open('walmartcart.html','w') as f:\n",
    "    f.write(str(x))"
   ]
  },
  {
   "cell_type": "code",
   "execution_count": 61,
   "id": "2b76930f",
   "metadata": {},
   "outputs": [],
   "source": [
    "items=soup.find_all('div',{'class':'cart-item-name js-product-title'})\n",
    "itemlist=['https://www.walmart.com/ip/' + i.a['data-us-item-id'] for i in items]"
   ]
  },
  {
   "cell_type": "code",
   "execution_count": 62,
   "id": "39007fc6",
   "metadata": {},
   "outputs": [],
   "source": [
    "def get_allitems_detail():\n",
    "    imgurl=soup.find_all('span',{'class':'asset-container'})\n",
    "    imgslinks=[i.img['src'] for i in imgurl]\n",
    "    \n",
    "    title=soup.find_all('div',{'class':'cart-item-name js-product-title'})\n",
    "    titles=[i.text.strip()[:16] for i in title]\n",
    "    \n",
    "    price=soup.find_all('div',{'data-automation-id':'cart-item-primary-price'})\n",
    "    prices=[i.find('span',{'class':'visuallyhidden'}).text for i in price]\n",
    "\n",
    "    item_dict ={ \n",
    "        'ProductLinks': itemlist,     \n",
    "        'Title': titles,\n",
    "                 'Price': prices,\n",
    "            'ImageLinks': imgslinks,\n",
    "           }\n",
    "        \n",
    "    return pd.DataFrame(item_dict)"
   ]
  },
  {
   "cell_type": "code",
   "execution_count": 63,
   "id": "ff24052f",
   "metadata": {},
   "outputs": [
    {
     "data": {
      "text/html": [
       "<div>\n",
       "<style scoped>\n",
       "    .dataframe tbody tr th:only-of-type {\n",
       "        vertical-align: middle;\n",
       "    }\n",
       "\n",
       "    .dataframe tbody tr th {\n",
       "        vertical-align: top;\n",
       "    }\n",
       "\n",
       "    .dataframe thead th {\n",
       "        text-align: right;\n",
       "    }\n",
       "</style>\n",
       "<table border=\"1\" class=\"dataframe\">\n",
       "  <thead>\n",
       "    <tr style=\"text-align: right;\">\n",
       "      <th></th>\n",
       "      <th>ProductLinks</th>\n",
       "      <th>Title</th>\n",
       "      <th>Price</th>\n",
       "      <th>ImageLinks</th>\n",
       "    </tr>\n",
       "  </thead>\n",
       "  <tbody>\n",
       "    <tr>\n",
       "      <th>0</th>\n",
       "      <td>https://www.walmart.com/ip/513876975</td>\n",
       "      <td>Better Homes &amp; G</td>\n",
       "      <td>$9.97</td>\n",
       "      <td>https://i5.walmartimages.com/asr/3caf28ad-94c1...</td>\n",
       "    </tr>\n",
       "    <tr>\n",
       "      <th>1</th>\n",
       "      <td>https://www.walmart.com/ip/984896848</td>\n",
       "      <td>Mainstays Decora</td>\n",
       "      <td>$9.97</td>\n",
       "      <td>https://i5.walmartimages.com/asr/1468b57c-50ad...</td>\n",
       "    </tr>\n",
       "    <tr>\n",
       "      <th>2</th>\n",
       "      <td>https://www.walmart.com/ip/312959360</td>\n",
       "      <td>Mainstays Buffal</td>\n",
       "      <td>$11.87</td>\n",
       "      <td>https://i5.walmartimages.com/asr/a87f79b7-c428...</td>\n",
       "    </tr>\n",
       "    <tr>\n",
       "      <th>3</th>\n",
       "      <td>https://www.walmart.com/ip/935590307</td>\n",
       "      <td>Mainstays Giant</td>\n",
       "      <td>$11.80</td>\n",
       "      <td>https://i5.walmartimages.com/asr/5e2406a9-5783...</td>\n",
       "    </tr>\n",
       "    <tr>\n",
       "      <th>4</th>\n",
       "      <td>https://www.walmart.com/ip/650450071</td>\n",
       "      <td>Mainstays Gingha</td>\n",
       "      <td>$10.97</td>\n",
       "      <td>https://i5.walmartimages.com/asr/9d959328-f81f...</td>\n",
       "    </tr>\n",
       "    <tr>\n",
       "      <th>5</th>\n",
       "      <td>https://www.walmart.com/ip/567938229</td>\n",
       "      <td>Better Homes &amp; G</td>\n",
       "      <td>$29.99</td>\n",
       "      <td>https://i5.walmartimages.com/asr/ca6da3b2-3944...</td>\n",
       "    </tr>\n",
       "    <tr>\n",
       "      <th>6</th>\n",
       "      <td>https://www.walmart.com/ip/651533651</td>\n",
       "      <td>Subrtex Stretch</td>\n",
       "      <td>$21.99</td>\n",
       "      <td>https://i5.walmartimages.com/asr/a5cae58e-6439...</td>\n",
       "    </tr>\n",
       "    <tr>\n",
       "      <th>7</th>\n",
       "      <td>https://www.walmart.com/ip/203125631</td>\n",
       "      <td>Mainstays Faux S</td>\n",
       "      <td>$7.88</td>\n",
       "      <td>https://i5.walmartimages.com/asr/325b47c3-5c7a...</td>\n",
       "    </tr>\n",
       "    <tr>\n",
       "      <th>8</th>\n",
       "      <td>https://www.walmart.com/ip/826783037</td>\n",
       "      <td>Phantoscope Soft</td>\n",
       "      <td>$24.99</td>\n",
       "      <td>https://i5.walmartimages.com/asr/343026b7-b74d...</td>\n",
       "    </tr>\n",
       "    <tr>\n",
       "      <th>9</th>\n",
       "      <td>https://www.walmart.com/ip/210595452</td>\n",
       "      <td>Mainstays Cordur</td>\n",
       "      <td>$10.88</td>\n",
       "      <td>https://i5.walmartimages.com/asr/185edd0a-8939...</td>\n",
       "    </tr>\n",
       "  </tbody>\n",
       "</table>\n",
       "</div>"
      ],
      "text/plain": [
       "                           ProductLinks             Title   Price  \\\n",
       "0  https://www.walmart.com/ip/513876975  Better Homes & G   $9.97   \n",
       "1  https://www.walmart.com/ip/984896848  Mainstays Decora   $9.97   \n",
       "2  https://www.walmart.com/ip/312959360  Mainstays Buffal  $11.87   \n",
       "3  https://www.walmart.com/ip/935590307  Mainstays Giant   $11.80   \n",
       "4  https://www.walmart.com/ip/650450071  Mainstays Gingha  $10.97   \n",
       "5  https://www.walmart.com/ip/567938229  Better Homes & G  $29.99   \n",
       "6  https://www.walmart.com/ip/651533651  Subrtex Stretch   $21.99   \n",
       "7  https://www.walmart.com/ip/203125631  Mainstays Faux S   $7.88   \n",
       "8  https://www.walmart.com/ip/826783037  Phantoscope Soft  $24.99   \n",
       "9  https://www.walmart.com/ip/210595452  Mainstays Cordur  $10.88   \n",
       "\n",
       "                                          ImageLinks  \n",
       "0  https://i5.walmartimages.com/asr/3caf28ad-94c1...  \n",
       "1  https://i5.walmartimages.com/asr/1468b57c-50ad...  \n",
       "2  https://i5.walmartimages.com/asr/a87f79b7-c428...  \n",
       "3  https://i5.walmartimages.com/asr/5e2406a9-5783...  \n",
       "4  https://i5.walmartimages.com/asr/9d959328-f81f...  \n",
       "5  https://i5.walmartimages.com/asr/ca6da3b2-3944...  \n",
       "6  https://i5.walmartimages.com/asr/a5cae58e-6439...  \n",
       "7  https://i5.walmartimages.com/asr/325b47c3-5c7a...  \n",
       "8  https://i5.walmartimages.com/asr/343026b7-b74d...  \n",
       "9  https://i5.walmartimages.com/asr/185edd0a-8939...  "
      ]
     },
     "execution_count": 63,
     "metadata": {},
     "output_type": "execute_result"
    }
   ],
   "source": [
    "get_allitems_detail()"
   ]
  },
  {
   "cell_type": "code",
   "execution_count": 64,
   "id": "bf85b883",
   "metadata": {},
   "outputs": [],
   "source": [
    "writer = ExcelWriter('WalmartCartItems.xlsx')\n",
    "get_allitems_detail().to_excel(writer,'Sheet5')\n",
    "writer.save()"
   ]
  },
  {
   "cell_type": "code",
   "execution_count": null,
   "id": "62f0a805",
   "metadata": {},
   "outputs": [],
   "source": []
  },
  {
   "cell_type": "code",
   "execution_count": null,
   "id": "0ac932c3",
   "metadata": {},
   "outputs": [],
   "source": []
  }
 ],
 "metadata": {
  "kernelspec": {
   "display_name": "Python 3",
   "language": "python",
   "name": "python3"
  },
  "language_info": {
   "codemirror_mode": {
    "name": "ipython",
    "version": 3
   },
   "file_extension": ".py",
   "mimetype": "text/x-python",
   "name": "python",
   "nbconvert_exporter": "python",
   "pygments_lexer": "ipython3",
   "version": "3.8.10"
  }
 },
 "nbformat": 4,
 "nbformat_minor": 5
}
